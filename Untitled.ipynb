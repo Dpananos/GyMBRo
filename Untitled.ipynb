{
 "cells": [
  {
   "cell_type": "code",
   "execution_count": 1,
   "metadata": {},
   "outputs": [],
   "source": [
    "%load_ext autoreload\n",
    "%autoreload 2"
   ]
  },
  {
   "cell_type": "code",
   "execution_count": 2,
   "metadata": {
    "scrolled": true
   },
   "outputs": [
    {
     "name": "stdout",
     "output_type": "stream",
     "text": [
      "/Users/demetri/opt/miniconda3/envs/gymbo/lib/python3.7/site-packages/lightgbm/__init__.py:48: UserWarning: Starting from version 2.2.1, the library file in distribution wheels for macOS is built by the Apple Clang (Xcode_8.3.3) compiler.\n",
      "This means that in case of installing LightGBM from PyPI via the ``pip install lightgbm`` command, you don't need to install the gcc compiler anymore.\n",
      "Instead of that, you need to install the OpenMP library, which is required for running LightGBM on the system with the Apple Clang compiler.\n",
      "You can install the OpenMP library by the following command: ``brew install libomp``.\n",
      "  \"You can install the OpenMP library by the following command: ``brew install libomp``.\", UserWarning)\n",
      "Fitting 1 folds for each of 8000 candidates, totalling 8000 fits\n",
      "[Parallel(n_jobs=-1)]: Using backend LokyBackend with 4 concurrent workers.\n",
      "/Users/demetri/opt/miniconda3/envs/gymbo/lib/python3.7/site-packages/lightgbm/__init__.py:48: UserWarning: Starting from version 2.2.1, the library file in distribution wheels for macOS is built by the Apple Clang (Xcode_8.3.3) compiler.\n",
      "This means that in case of installing LightGBM from PyPI via the ``pip install lightgbm`` command, you don't need to install the gcc compiler anymore.\n",
      "Instead of that, you need to install the OpenMP library, which is required for running LightGBM on the system with the Apple Clang compiler.\n",
      "You can install the OpenMP library by the following command: ``brew install libomp``.\n",
      "  \"You can install the OpenMP library by the following command: ``brew install libomp``.\", UserWarning)\n",
      "/Users/demetri/opt/miniconda3/envs/gymbo/lib/python3.7/site-packages/lightgbm/__init__.py:48: UserWarning: Starting from version 2.2.1, the library file in distribution wheels for macOS is built by the Apple Clang (Xcode_8.3.3) compiler.\n",
      "This means that in case of installing LightGBM from PyPI via the ``pip install lightgbm`` command, you don't need to install the gcc compiler anymore.\n",
      "Instead of that, you need to install the OpenMP library, which is required for running LightGBM on the system with the Apple Clang compiler.\n",
      "You can install the OpenMP library by the following command: ``brew install libomp``.\n",
      "  \"You can install the OpenMP library by the following command: ``brew install libomp``.\", UserWarning)\n",
      "/Users/demetri/opt/miniconda3/envs/gymbo/lib/python3.7/site-packages/lightgbm/__init__.py:48: UserWarning: Starting from version 2.2.1, the library file in distribution wheels for macOS is built by the Apple Clang (Xcode_8.3.3) compiler.\n",
      "This means that in case of installing LightGBM from PyPI via the ``pip install lightgbm`` command, you don't need to install the gcc compiler anymore.\n",
      "Instead of that, you need to install the OpenMP library, which is required for running LightGBM on the system with the Apple Clang compiler.\n",
      "You can install the OpenMP library by the following command: ``brew install libomp``.\n",
      "  \"You can install the OpenMP library by the following command: ``brew install libomp``.\", UserWarning)\n",
      "/Users/demetri/opt/miniconda3/envs/gymbo/lib/python3.7/site-packages/lightgbm/__init__.py:48: UserWarning: Starting from version 2.2.1, the library file in distribution wheels for macOS is built by the Apple Clang (Xcode_8.3.3) compiler.\n",
      "This means that in case of installing LightGBM from PyPI via the ``pip install lightgbm`` command, you don't need to install the gcc compiler anymore.\n",
      "Instead of that, you need to install the OpenMP library, which is required for running LightGBM on the system with the Apple Clang compiler.\n",
      "You can install the OpenMP library by the following command: ``brew install libomp``.\n",
      "  \"You can install the OpenMP library by the following command: ``brew install libomp``.\", UserWarning)\n",
      "/Users/demetri/opt/miniconda3/envs/gymbo/lib/python3.7/site-packages/sklearn/model_selection/_validation.py:530: FutureWarning: From version 0.22, errors during fit will result in a cross validation score of NaN by default. Use error_score='raise' if you want an exception raised or error_score=np.nan to adopt the behavior from version 0.22.\n",
      "  FutureWarning)\n",
      "/Users/demetri/opt/miniconda3/envs/gymbo/lib/python3.7/site-packages/sklearn/model_selection/_validation.py:530: FutureWarning: From version 0.22, errors during fit will result in a cross validation score of NaN by default. Use error_score='raise' if you want an exception raised or error_score=np.nan to adopt the behavior from version 0.22.\n",
      "  FutureWarning)\n",
      "/Users/demetri/opt/miniconda3/envs/gymbo/lib/python3.7/site-packages/sklearn/model_selection/_validation.py:530: FutureWarning: From version 0.22, errors during fit will result in a cross validation score of NaN by default. Use error_score='raise' if you want an exception raised or error_score=np.nan to adopt the behavior from version 0.22.\n",
      "  FutureWarning)\n",
      "/Users/demetri/opt/miniconda3/envs/gymbo/lib/python3.7/site-packages/sklearn/model_selection/_validation.py:530: FutureWarning: From version 0.22, errors during fit will result in a cross validation score of NaN by default. Use error_score='raise' if you want an exception raised or error_score=np.nan to adopt the behavior from version 0.22.\n",
      "  FutureWarning)\n",
      "joblib.externals.loky.process_executor._RemoteTraceback: \n",
      "\"\"\"\n",
      "Traceback (most recent call last):\n",
      "  File \"/Users/demetri/opt/miniconda3/envs/gymbo/lib/python3.7/site-packages/joblib/externals/loky/process_executor.py\", line 418, in _process_worker\n",
      "    r = call_item()\n",
      "  File \"/Users/demetri/opt/miniconda3/envs/gymbo/lib/python3.7/site-packages/joblib/externals/loky/process_executor.py\", line 272, in __call__\n",
      "    return self.fn(*self.args, **self.kwargs)\n",
      "  File \"/Users/demetri/opt/miniconda3/envs/gymbo/lib/python3.7/site-packages/joblib/_parallel_backends.py\", line 567, in __call__\n",
      "    return self.func(*args, **kwargs)\n",
      "  File \"/Users/demetri/opt/miniconda3/envs/gymbo/lib/python3.7/site-packages/joblib/parallel.py\", line 225, in __call__\n",
      "    for func, args, kwargs in self.items]\n",
      "  File \"/Users/demetri/opt/miniconda3/envs/gymbo/lib/python3.7/site-packages/joblib/parallel.py\", line 225, in <listcomp>\n",
      "    for func, args, kwargs in self.items]\n",
      "  File \"/Users/demetri/opt/miniconda3/envs/gymbo/lib/python3.7/site-packages/sklearn/model_selection/_validation.py\", line 516, in _fit_and_score\n",
      "    estimator.fit(X_train, y_train, **fit_params)\n",
      "  File \"/Users/demetri/opt/miniconda3/envs/gymbo/lib/python3.7/site-packages/sklearn/pipeline.py\", line 352, in fit\n",
      "    Xt, fit_params = self._fit(X, y, **fit_params)\n",
      "  File \"/Users/demetri/opt/miniconda3/envs/gymbo/lib/python3.7/site-packages/sklearn/pipeline.py\", line 317, in _fit\n",
      "    **fit_params_steps[name])\n",
      "  File \"/Users/demetri/opt/miniconda3/envs/gymbo/lib/python3.7/site-packages/joblib/memory.py\", line 355, in __call__\n",
      "    return self.func(*args, **kwargs)\n",
      "  File \"/Users/demetri/opt/miniconda3/envs/gymbo/lib/python3.7/site-packages/sklearn/pipeline.py\", line 716, in _fit_transform_one\n",
      "    res = transformer.fit_transform(X, y, **fit_params)\n",
      "  File \"/Users/demetri/opt/miniconda3/envs/gymbo/lib/python3.7/site-packages/sklearn/compose/_column_transformer.py\", line 498, in fit_transform\n",
      "    return self._hstack(list(Xs))\n",
      "  File \"/Users/demetri/opt/miniconda3/envs/gymbo/lib/python3.7/site-packages/sklearn/compose/_column_transformer.py\", line 574, in _hstack\n",
      "    return np.hstack(Xs)\n",
      "  File \"<__array_function__ internals>\", line 6, in hstack\n",
      "  File \"/Users/demetri/opt/miniconda3/envs/gymbo/lib/python3.7/site-packages/numpy/core/shape_base.py\", line 344, in hstack\n",
      "    return _nx.concatenate(arrs, 1)\n",
      "  File \"<__array_function__ internals>\", line 6, in concatenate\n",
      "ValueError: all the input array dimensions for the concatenation axis must match exactly, but along dimension 0, the array at index 0 has size 30389 and the array at index 1 has size 30468\n",
      "\"\"\"\n",
      "\n",
      "The above exception was the direct cause of the following exception:\n",
      "\n",
      "Traceback (most recent call last):\n",
      "  File \"train_model.py\", line 54, in <module>\n",
      "    gscv.fit(X.iloc[training_ix,], y[training_ix])\n",
      "  File \"/Users/demetri/opt/miniconda3/envs/gymbo/lib/python3.7/site-packages/sklearn/model_selection/_search.py\", line 688, in fit\n",
      "    self._run_search(evaluate_candidates)\n",
      "  File \"/Users/demetri/opt/miniconda3/envs/gymbo/lib/python3.7/site-packages/sklearn/model_selection/_search.py\", line 1149, in _run_search\n",
      "    evaluate_candidates(ParameterGrid(self.param_grid))\n",
      "  File \"/Users/demetri/opt/miniconda3/envs/gymbo/lib/python3.7/site-packages/sklearn/model_selection/_search.py\", line 667, in evaluate_candidates\n",
      "    cv.split(X, y, groups)))\n",
      "  File \"/Users/demetri/opt/miniconda3/envs/gymbo/lib/python3.7/site-packages/joblib/parallel.py\", line 934, in __call__\n",
      "    self.retrieve()\n",
      "  File \"/Users/demetri/opt/miniconda3/envs/gymbo/lib/python3.7/site-packages/joblib/parallel.py\", line 833, in retrieve\n",
      "    self._output.extend(job.get(timeout=self.timeout))\n",
      "  File \"/Users/demetri/opt/miniconda3/envs/gymbo/lib/python3.7/site-packages/joblib/_parallel_backends.py\", line 521, in wrap_future_result\n",
      "    return future.result(timeout=timeout)\n",
      "  File \"/Users/demetri/opt/miniconda3/envs/gymbo/lib/python3.7/concurrent/futures/_base.py\", line 435, in result\n",
      "    return self.__get_result()\n",
      "  File \"/Users/demetri/opt/miniconda3/envs/gymbo/lib/python3.7/concurrent/futures/_base.py\", line 384, in __get_result\n",
      "    raise self._exception\n",
      "ValueError: all the input array dimensions for the concatenation axis must match exactly, but along dimension 0, the array at index 0 has size 30389 and the array at index 1 has size 30468\n"
     ]
    }
   ],
   "source": [
    "!python train_model.py"
   ]
  },
  {
   "cell_type": "code",
   "execution_count": null,
   "metadata": {},
   "outputs": [],
   "source": []
  },
  {
   "cell_type": "code",
   "execution_count": null,
   "metadata": {},
   "outputs": [],
   "source": []
  }
 ],
 "metadata": {
  "kernelspec": {
   "display_name": "Python 3",
   "language": "python",
   "name": "python3"
  },
  "language_info": {
   "codemirror_mode": {
    "name": "ipython",
    "version": 3
   },
   "file_extension": ".py",
   "mimetype": "text/x-python",
   "name": "python",
   "nbconvert_exporter": "python",
   "pygments_lexer": "ipython3",
   "version": "3.7.4"
  }
 },
 "nbformat": 4,
 "nbformat_minor": 2
}
